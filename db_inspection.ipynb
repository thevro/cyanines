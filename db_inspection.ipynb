{
 "cells": [
  {
   "cell_type": "code",
   "execution_count": 1,
   "id": "7b7a5488-e967-48ce-8886-ecc30c914276",
   "metadata": {},
   "outputs": [],
   "source": [
    "from ase.db import connect\n",
    "import os"
   ]
  },
  {
   "cell_type": "code",
   "execution_count": 2,
   "id": "94500fb0-00a0-4e3d-899c-ba45f3a60f0f",
   "metadata": {},
   "outputs": [],
   "source": [
    "os.chdir('/nc/Cyanine/')\n",
    "paths = ['sc-Cy1.db', 'all_via_module_interface.db']\n",
    "# db = connect(path)\n",
    "dbs = [connect(path) for path in paths]"
   ]
  },
  {
   "cell_type": "code",
   "execution_count": 32,
   "id": "e8911aa9-f6fd-4523-99ab-16a66d155c41",
   "metadata": {},
   "outputs": [
    {
     "name": "stdout",
     "output_type": "stream",
     "text": [
      "ReferenceMethod  Unknown          Unknown         \n",
      "_distance_unit   Bohr             Bohr            \n",
      "n_triplets       0                0               \n",
      "n_duplets        0                0               \n",
      "n_singlets       3                3               \n",
      "\n",
      "Property units:\n",
      "\n",
      "energy           Hartree          Hartree         \n",
      "forces           Hartree/Bohr     Hartree/Bohr    \n",
      "nacs             1                1               \n",
      "dipoles          1                1               \n"
     ]
    }
   ],
   "source": [
    "keys = dbs[0].metadata.keys() - {'_property_unit_dict', 'atomrefs'}\n",
    "for k in keys:\n",
    "    print(f'{k:<16}',\n",
    "          *[f'{db.metadata[k]:<16}' for db in dbs])\n",
    "\n",
    "print(\"\\nProperty units:\\n\")\n",
    "\n",
    "for k in dbs[0].metadata['_property_unit_dict']:\n",
    "    print(f'{k:<16}', \n",
    "          *[f'{db.metadata[\"_property_unit_dict\"][k]:<16}' for db in dbs])"
   ]
  },
  {
   "cell_type": "code",
   "execution_count": 4,
   "id": "22f3cfe9-d9e0-45e9-a85b-26f3a02da200",
   "metadata": {},
   "outputs": [
    {
     "data": {
      "text/plain": [
       "{'ReferenceMethod': 'Unknown',\n",
       " '_distance_unit': 'Bohr',\n",
       " '_property_unit_dict': {'energy': 'Hartree',\n",
       "  'forces': 'Hartree/Bohr',\n",
       "  'nacs': '1',\n",
       "  'dipoles': '1',\n",
       "  'smooth_nacs': '1'},\n",
       " 'n_singlets': 3,\n",
       " 'n_duplets': 0,\n",
       " 'n_triplets': 0,\n",
       " 'atomrefs': {}}"
      ]
     },
     "execution_count": 4,
     "metadata": {},
     "output_type": "execute_result"
    }
   ],
   "source": [
    "dbs[1].metadata"
   ]
  },
  {
   "cell_type": "code",
   "execution_count": 34,
   "id": "01158db7-fe24-475e-a0f1-7fb04b23d90e",
   "metadata": {},
   "outputs": [
    {
     "data": {
      "text/plain": [
       "array([1.95146802])"
      ]
     },
     "execution_count": 34,
     "metadata": {},
     "output_type": "execute_result"
    }
   ],
   "source": [
    "dbs[1].get(1).toatoms().get_distances(0,1)"
   ]
  },
  {
   "cell_type": "code",
   "execution_count": 40,
   "id": "829ed5a2-93a5-48bb-85b8-9e20755b0b4b",
   "metadata": {},
   "outputs": [
    {
     "data": {
      "text/plain": [
       "True"
      ]
     },
     "execution_count": 40,
     "metadata": {},
     "output_type": "execute_result"
    }
   ],
   "source": [
    "(dbs[0].get(1).toatoms().get_positions() == dbs[1].get(1).toatoms().get_positions()).all()"
   ]
  },
  {
   "cell_type": "code",
   "execution_count": 43,
   "id": "e1635dad-1201-4df5-8dc3-5a1ec5af46ea",
   "metadata": {},
   "outputs": [
    {
     "ename": "AttributeError",
     "evalue": "'Atoms' object has no attribute 'get_data'",
     "output_type": "error",
     "traceback": [
      "\u001b[0;31m---------------------------------------------------------------------------\u001b[0m",
      "\u001b[0;31mAttributeError\u001b[0m                            Traceback (most recent call last)",
      "Cell \u001b[0;32mIn[43], line 1\u001b[0m\n\u001b[0;32m----> 1\u001b[0m (\u001b[43mdbs\u001b[49m\u001b[43m[\u001b[49m\u001b[38;5;241;43m0\u001b[39;49m\u001b[43m]\u001b[49m\u001b[38;5;241;43m.\u001b[39;49m\u001b[43mget\u001b[49m\u001b[43m(\u001b[49m\u001b[38;5;241;43m1\u001b[39;49m\u001b[43m)\u001b[49m\u001b[38;5;241;43m.\u001b[39;49m\u001b[43mtoatoms\u001b[49m\u001b[43m(\u001b[49m\u001b[43m)\u001b[49m\u001b[38;5;241;43m.\u001b[39;49m\u001b[43mget_data\u001b[49m() \u001b[38;5;241m==\u001b[39m dbs[\u001b[38;5;241m1\u001b[39m]\u001b[38;5;241m.\u001b[39mget(\u001b[38;5;241m1\u001b[39m)\u001b[38;5;241m.\u001b[39mtoatoms()\u001b[38;5;241m.\u001b[39mget_data())\u001b[38;5;241m.\u001b[39mall()\n",
      "\u001b[0;31mAttributeError\u001b[0m: 'Atoms' object has no attribute 'get_data'"
     ]
    }
   ],
   "source": [
    "(dbs[0].get(1).toatoms().get_data() == dbs[1].get(1).toatoms().get_data()).all()"
   ]
  }
 ],
 "metadata": {
  "kernelspec": {
   "display_name": "Python 3 (ipykernel)",
   "language": "python",
   "name": "python3"
  },
  "language_info": {
   "codemirror_mode": {
    "name": "ipython",
    "version": 3
   },
   "file_extension": ".py",
   "mimetype": "text/x-python",
   "name": "python",
   "nbconvert_exporter": "python",
   "pygments_lexer": "ipython3",
   "version": "3.10.13"
  }
 },
 "nbformat": 4,
 "nbformat_minor": 5
}
