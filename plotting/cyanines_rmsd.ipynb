{
 "cells": [
  {
   "cell_type": "code",
   "execution_count": 1,
   "id": "aaac8a40-4dcc-4e71-85f7-c6bf1c9e9da3",
   "metadata": {},
   "outputs": [],
   "source": [
    "import os, glob\n",
    "import numpy as np\n",
    "import pandas as pd\n",
    "\n",
    "import matplotlib.pyplot as plt\n",
    "from ase.db import connect\n",
    "\n",
    "from itertools import combinations\n",
    "#from sklearn.decomposition import PCA\n",
    "#from sklearn.preprocessing import MinMaxScaler\n",
    "\n",
    "#from sklearn.preprocessing import StandardScaler"
   ]
  },
  {
   "cell_type": "markdown",
   "id": "6e560992-a71f-4f8a-b36d-7b7c327ba87a",
   "metadata": {},
   "source": [
    "# ToDo\n",
    "\n",
    "- [ ] Plot RSMD only for 11 initial geoms add this on top or as lines in bgr in plot --> guess there are no peaks, as number of points for every interpolated geom is the same. how does plot look when only using cis and trans geoms?\n",
    "- [ ] Only include carbon and nitrogen in computing the RSMD\n",
    "- [ ] Kabsch algorithm\n",
    "- [ ] Get indexes for alignment from geometries in db: which n is rotating? pcik indexes from non-isomerizing part of geom"
   ]
  },
  {
   "cell_type": "markdown",
   "id": "f2945327-e78f-446e-8436-49c803148012",
   "metadata": {},
   "source": [
    "# Align geoms"
   ]
  },
  {
   "cell_type": "code",
   "execution_count": 2,
   "id": "582e1d25-59a9-48f8-8b77-fd0644d85843",
   "metadata": {},
   "outputs": [],
   "source": [
    "def _rotation(vector,angle,degrees=False):\n",
    "    if degrees:\n",
    "        theta = angle*np.pi/180.0;\n",
    "    else:\n",
    "        theta = angle\n",
    "    s = np.sin(theta);\n",
    "    c = np.cos(theta);\n",
    "    t = 1 - c; \n",
    "    vtmp = vector / np.linalg.norm(vector)\n",
    "    ele = np.zeros((3,3),dtype=float)\n",
    "    x,y,z = vtmp\n",
    "\n",
    "    ele[0][0] = t*x*x + c;\n",
    "    ele[0][1] = t*x*y + s*z;\n",
    "    ele[0][2] = t*x*z - s*y;\n",
    "\n",
    "    ele[1][0] = t*x*y - s*z;\n",
    "    ele[1][1] = t*y*y + c;\n",
    "    ele[1][2] = t*y*z + s*x;\n",
    "\n",
    "    ele[2][0] = t*x*z + s*y;\n",
    "    ele[2][1] = t*y*z - s*x;\n",
    "    ele[2][2] = t*z*z + c;\n",
    "\n",
    "    return ele\n",
    "    \n",
    "def rotation_to_axis(geometry, index):\n",
    "\n",
    "    number = range(len(geometry))\n",
    "    moved_atom = index\n",
    "    angle = np.dot(geometry[moved_atom],np.array([1.0,0.0,0.0]))/(np.linalg.norm(geometry[moved_atom]))\n",
    "    angle = np.arccos(angle)\n",
    "    \n",
    "    axis = np.cross(geometry[moved_atom],np.array([1.0,0.0,0.0]))/(np.linalg.norm(geometry[moved_atom]))\n",
    "    \n",
    "    rotationmatrix = _rotation(axis,angle)\n",
    "    rotation_all = np.dot(geometry,rotationmatrix)\n",
    "    rotation_all_element = rotation_all[moved_atom]\n",
    "    if rotation_all_element[0] < 0:\n",
    "        rotation_all = _rotation(axis,180,True)\n",
    "\n",
    "    return rotation_all\n",
    "\n",
    "\n",
    "def rotation_to_plane(geometry,index):\n",
    "\n",
    "    vec_CuC = geometry[index]/(np.linalg.norm(geometry[index]))\n",
    "    vec_CuCxCuN = np.cross(np.array([1,0,0],dtype=float),vec_CuC)\n",
    "    angle = np.dot(vec_CuCxCuN,np.array([0.0,0.0,1.0]))/(np.linalg.norm(vec_CuCxCuN))\n",
    "    angle = np.arccos(angle)\n",
    "    \n",
    "    rotationmatrix = _rotation(np.array([1.0,0.0,0.0]),angle)\n",
    "    rotation_all_C = np.dot(geometry,rotationmatrix)\n",
    "    rotation_all_C_coordinates = rotation_all_C[index]\n",
    "    \n",
    "    if np.abs(rotation_all_C_coordinates[2]) > 1e-10:\n",
    "        angle = -angle\n",
    "        rotationamtrix = _rotation(np.array([1.0,0.0,0.0]),angle)\n",
    "        rotation_all_C = np.dot(geometry,rotationamtrix)\n",
    "\n",
    "    return rotation_all_C\n",
    "\n",
    "\n",
    "def align_mol(atXYZ, align_index=[0,1,2]):\n",
    "    \n",
    "    atXYZ_1 = atXYZ - atXYZ[align_index[0]]\n",
    "    atXYZ_2 = rotation_to_axis(atXYZ_1, align_index[1])\n",
    "    atXYZ_3 = rotation_to_plane(atXYZ_2, align_index[2])\n",
    "    \n",
    "    return atXYZ_3\n"
   ]
  },
  {
   "cell_type": "markdown",
   "id": "d93f119d-470e-41ea-a904-f251fd487a20",
   "metadata": {},
   "source": [
    "### Read DB and align geometries w.r.t. to each other"
   ]
  },
  {
   "cell_type": "code",
   "execution_count": 3,
   "id": "4d736e4c-c55d-412a-a687-325224f1a4cb",
   "metadata": {},
   "outputs": [],
   "source": [
    "def _get_xyz_from_db(datapath, dbname):\n",
    "   \n",
    "    ase_db = connect(os.path.join(datapath, dbname))\n",
    "    n_samples = len(ase_db)\n",
    "    n_atoms = [row.toatoms().get_global_number_of_atoms() for row in ase_db.select()]\n",
    "    \n",
    "    if len(set(n_atoms)) == 1:\n",
    "        n_atoms = n_atoms[0]\n",
    "    else:\n",
    "        raise Exception('''Not all molecules in the database have the same number of atoms. \n",
    "            Did you mix databases of different molecules?''')\n",
    "        \n",
    "    xyz_matrix = np.array([mol.toatoms().get_positions() for idx, mol in enumerate(ase_db.select())])\n",
    "    \n",
    "    return xyz_matrix"
   ]
  },
  {
   "cell_type": "code",
   "execution_count": 4,
   "id": "598b19a8-a363-49c1-86c2-8807d0687781",
   "metadata": {},
   "outputs": [],
   "source": [
    "def ase_align_mols(ase_db, align_index=[0,1,2]):\n",
    "\n",
    "    with connect(ase_db) as db:\n",
    "        for mol in db.select():\n",
    "            data = mol.data\n",
    "            xyz = mol.toatoms().get_positions()\n",
    "            xyz_align = align_mol(atXYZ=xyz, align_index=align_index)\n",
    "            data['atXYZ_a'] = xyz_align\n",
    "            db.update(mol.id, data=data)"
   ]
  },
  {
   "cell_type": "code",
   "execution_count": 5,
   "id": "fa0fc2cb-d206-4e68-ad99-1be18600740b",
   "metadata": {},
   "outputs": [],
   "source": [
    "def calc_rmsd(ase_db, align=True, align_index=[0, 1, 2]):\n",
    "    bohr2ang = 0.529177\n",
    "    ref_idx = _get_refgeom_idx(ase_db)\n",
    "\n",
    "    def get_xyz_from_mol(mol):\n",
    "        return mol.toatoms().get_positions() if not align else mol.data['atXYZ_a']\n",
    "\n",
    "    ref_xyz = get_xyz_from_mol(connect(ase_db).get(ref_idx + 1))\n",
    "    n_atoms, _ = ref_xyz.shape\n",
    "\n",
    "    rmsd_values = []\n",
    "    for mol in connect(ase_db).select():\n",
    "        current_xyz = get_xyz_from_mol(mol)\n",
    "        diff = current_xyz - ref_xyz\n",
    "        rmsd = np.sqrt(np.mean(diff**2))\n",
    "        rmsd_values.append(rmsd * bohr2ang if align else rmsd)\n",
    "\n",
    "    return rmsd_values\n",
    "    "
   ]
  },
  {
   "cell_type": "markdown",
   "id": "045c0942-b370-4748-b9c5-12c0ce5ce645",
   "metadata": {},
   "source": [
    "### Kabsch Algorithm for RMSD"
   ]
  },
  {
   "cell_type": "code",
   "execution_count": 6,
   "id": "6bafbed4-07f7-4256-9c00-1c4ac548fe86",
   "metadata": {},
   "outputs": [],
   "source": [
    "from scipy.spatial.transform import Rotation as R\n",
    "\n",
    "def _get_refgeom_idx(ase_db):\n",
    "\n",
    "    E0 = []\n",
    "    for idx, mol in enumerate(connect(ase_db).select()):\n",
    "        #print(mol.data.keys())\n",
    "        E0.append(mol.data['energy'][0][0])\n",
    "\n",
    "    min_E0_idx = E0.index(min(E0))\n",
    "    return min_E0_idx\n",
    "    \n",
    "def _kabsch_align(configurations, ref_idx):\n",
    "\n",
    "    # Step 1: Centering the Coordinates\n",
    "    center_of_mass = np.mean(configurations, axis=(1, 2), keepdims=True)\n",
    "    centered_configurations = configurations - center_of_mass\n",
    "\n",
    "    # Step 2: Aligning the Configurations\n",
    "    reference_coords = centered_configurations[ref_idx]\n",
    "    rotation_matrices = R.from_matrix(np.matmul(centered_configurations.transpose(0, 2, 1), reference_coords))\n",
    "    aligned_configurations = np.matmul(centered_configurations, rotation_matrices.as_matrix())\n",
    "\n",
    "    return aligned_configurations, reference_coords\n",
    "    \n",
    "\n",
    "def calc_kabsch_rmsd(ase_db):\n",
    "\n",
    "    bohr2ang = 0.529177\n",
    "    ref_idx = _get_refgeom_idx(ase_db)\n",
    "\n",
    "    configurations = [mol.toatoms().get_positions() for mol in connect(ase_db).select()]\n",
    "    xyz_align_all, xyz_ref = _kabsch_align(configurations=configurations, ref_idx=ref_idx)\n",
    "\n",
    "    rmsd_values = []\n",
    "    for mol in xyz_align_all:\n",
    "        diff = mol - xyz_ref\n",
    "        \n",
    "        rmsd = np.sqrt(np.mean(diff**2))\n",
    "        rmsd_values.append(rmsd * bohr2ang)\n",
    "\n",
    "    return rmsd_values\n",
    "  "
   ]
  },
  {
   "cell_type": "code",
   "execution_count": 7,
   "id": "dea025ac-0b64-4692-9eca-8f2356ab6c10",
   "metadata": {},
   "outputs": [
    {
     "name": "stdout",
     "output_type": "stream",
     "text": [
      "For now we just look at the DB of: hc-Cy1\n"
     ]
    }
   ],
   "source": [
    "from ase import io\n",
    "\n",
    "path = os.getcwd()\n",
    "databases = sorted([n for n in os.listdir(path) if 'Cy' in n and n.endswith('.db')])\n",
    "molnames = [n.split('_')[1][:-3] for n in databases]\n",
    "\n",
    "idx = 1\n",
    "\n",
    "print('For now we just look at the DB of: '+str(molnames[idx]))\n",
    "db_all_1  = databases[idx]\n",
    "db_path_1 = io.read(str(molnames[idx])+'_path.xyz', index=':')\n"
   ]
  },
  {
   "cell_type": "code",
   "execution_count": 8,
   "id": "76c7bd1d-b44f-4e67-b8e7-2aba3f232f23",
   "metadata": {},
   "outputs": [],
   "source": [
    "def _label_path(ase_db, ase_path, ase_db_unit='Bohr', ase_path_unit='Angstrom'):\n",
    "\n",
    "    if ase_db_unit == ase_path_unit:\n",
    "        conv_path = 1.0\n",
    "    else:\n",
    "        if ase_db_unit == 'Bohr' and ase_path_unit == 'Angstrom':\n",
    "            conv_path = 1/0.52917721067\n",
    "        else:\n",
    "            conv_path = 0.52917721067\n",
    "\n",
    "    path_label = ['no' for _ in range(len(connect(ase_db)))]\n",
    "    \n",
    "    for i, mol_path in enumerate(ase_path):\n",
    "        path_xyz = mol_path.get_positions()*conv_path\n",
    "        with connect(ase_db) as db:\n",
    "            for j, mol in enumerate(db.select()):\n",
    "                curr_xyz = mol.toatoms().get_positions()\n",
    "                if np.allclose(path_xyz, curr_xyz):\n",
    "                    path_label[j] = 'yes'\n",
    "\n",
    "    with connect(ase_db) as db_n:\n",
    "        for j, mol in enumerate(db_n.select()):\n",
    "            data = mol.data\n",
    "            data['path'] = path_label[j]\n",
    "            db_n.update(mol.id, data=data)\n",
    "        \n"
   ]
  },
  {
   "cell_type": "code",
   "execution_count": 9,
   "id": "b8ccb59e-72d3-4b47-a6d3-59bb1d934cd3",
   "metadata": {},
   "outputs": [],
   "source": [
    "_label_path(\n",
    "    ase_db=databases[1], \n",
    "    ase_path=io.read(str(molnames[1])+'_path.xyz', index=':')\n",
    ")\n"
   ]
  },
  {
   "cell_type": "code",
   "execution_count": 10,
   "id": "32ea0e04-3dac-413f-97d6-75569d525bc6",
   "metadata": {},
   "outputs": [
    {
     "data": {
      "text/plain": [
       "[18, 119, 220, 320, 421, 522, 623, 724, 825, 924, 1025]"
      ]
     },
     "execution_count": 10,
     "metadata": {},
     "output_type": "execute_result"
    }
   ],
   "source": [
    "equal_list = [j for j, mol in enumerate(connect(databases[1]).select()) if mol.data['path'] == 'yes']\n",
    "equal_list"
   ]
  },
  {
   "cell_type": "code",
   "execution_count": 11,
   "id": "78b04c0d-5851-49de-93fb-99744e887936",
   "metadata": {},
   "outputs": [],
   "source": [
    "equal_list = [j for j, mol in enumerate(connect(db_all_1).select()) if mol.data['path'] == 'yes']"
   ]
  },
  {
   "cell_type": "code",
   "execution_count": 12,
   "id": "4d175a5e-f850-4b93-baf8-952185f8213b",
   "metadata": {},
   "outputs": [
    {
     "data": {
      "text/plain": [
       "([18, 119, 220, 320, 421, 522, 623, 724, 825, 924, 1025], 11)"
      ]
     },
     "execution_count": 12,
     "metadata": {},
     "output_type": "execute_result"
    }
   ],
   "source": [
    "#equal_list = [j for j, mol in enumerate(path_label) if mol == 'yes']\n",
    "\n",
    "equal_list, len(equal_list)"
   ]
  },
  {
   "cell_type": "code",
   "execution_count": 13,
   "id": "3ab58afa-86ee-44af-841f-bda43f007ca9",
   "metadata": {},
   "outputs": [
    {
     "name": "stdout",
     "output_type": "stream",
     "text": [
      "Calculating RMSD for cc-Cy2 ...\n",
      "... Done \n",
      "\n",
      "Calculating RMSD for hc-Cy1 ...\n",
      "... Done \n",
      "\n",
      "Calculating RMSD for hc-Cy2 ...\n",
      "... Done \n",
      "\n",
      "Calculating RMSD for sc-Cy1 ...\n",
      "... Done \n",
      "\n",
      "Calculating RMSD for sc-mCy1 ...\n",
      "... Done \n",
      "\n"
     ]
    }
   ],
   "source": [
    "#align_rmsd = calc_rmsd(ase_db=databases[0], align=True, align_index=[16,14,18]) #C=C bond that isomerizes and one N\n",
    "\n",
    "d_kabsch_rmsd = {}\n",
    "for idx, db in enumerate(databases):\n",
    "    print('Calculating RMSD for '+str(molnames[idx])+' ...')\n",
    "    d_kabsch_rmsd[molnames[idx]] = calc_kabsch_rmsd(ase_db=db)\n",
    "    print('... Done \\n')\n"
   ]
  },
  {
   "cell_type": "code",
   "execution_count": 20,
   "id": "d4e61d5f-38d4-49f8-b00f-16dfbb4c28bd",
   "metadata": {},
   "outputs": [
    {
     "data": {
      "text/plain": [
       "(0.7607843137254902, 0.5647058823529412, 0.6705882352941176)"
      ]
     },
     "execution_count": 20,
     "metadata": {},
     "output_type": "execute_result"
    }
   ],
   "source": [
    "cpurple0  = (143/255, 78/255, 113/255)\n",
    "cpurple1  = (194/255, 144/255, 171/255)\n",
    "cpurple2  = (220/255, 189/255, 209/255)\n",
    "\n",
    "cpurple1"
   ]
  },
  {
   "cell_type": "markdown",
   "id": "cc629ffe-2804-4761-b570-47a11cbf3668",
   "metadata": {},
   "source": [
    "### Make Plots"
   ]
  },
  {
   "cell_type": "code",
   "execution_count": 16,
   "id": "98416195-c0ab-4ab8-92a0-48ff51e92912",
   "metadata": {},
   "outputs": [
    {
     "data": {
      "image/png": "[encoded data removed]",
      "text/plain": [
       "<Figure size 1200x600 with 5 Axes>"
      ]
     },
     "metadata": {},
     "output_type": "display_data"
    }
   ],
   "source": [
    "import pandas as pd\n",
    "import seaborn as sns\n",
    "import matplotlib.pyplot as plt\n",
    "\n",
    "c_green  = (110/255, 140/255, 14/255)\n",
    "c_purple = (143/255, 78/255, 113/255)\n",
    "c_blue   = (85/255, 118/255, 158/255)\n",
    "\n",
    "# Calculate the number of rows and columns\n",
    "num_keys = len(d_kabsch_rmsd)\n",
    "num_rows = -(-num_keys // 4)  # Equivalent to math.ceil(num_keys / 4)\n",
    "num_cols = min(4, num_keys)\n",
    "\n",
    "# Create subplots\n",
    "if num_rows == 1:\n",
    "    fig, axes = plt.subplots(1, num_cols, figsize=(3*num_cols, 3*num_rows))\n",
    "else:\n",
    "    fig, axes = plt.subplots(num_rows, num_cols, figsize=(3*num_cols, 3*num_rows))\n",
    "\n",
    "# Flatten the axes array if there is only one row\n",
    "axes = axes.flatten() if num_rows > 1 else [axes]\n",
    "\n",
    "# Iterate through the dictionary and plot histograms\n",
    "for i, (key, values) in enumerate(d_kabsch_rmsd.items()):\n",
    "    row_index = i // num_cols\n",
    "    col_index = i % num_cols\n",
    "    # histplot\n",
    "    sns.histplot(pd.DataFrame(values), bins=100, kde=False, \n",
    "                 element=\"step\", \n",
    "                 stat=\"density\", \n",
    "                 ax=axes[i], \n",
    "                 facecolor=c_purple, \n",
    "                 edgecolor=c_purple,\n",
    "                 legend=False\n",
    "                )\n",
    "    axes[i].set_title(key)\n",
    "\n",
    "    # Calculate the maximum x-axis value based on data\n",
    "    max_value = max(values)\n",
    "    max_value_rounded = ((max_value // 0.5) + 1) * 0.5\n",
    "    \n",
    "    # Set x-axis ticks\n",
    "    axes[i].set_xticks([x * 0.5 for x in range(int(max_value_rounded / 0.5) + 1)])\n",
    "\n",
    "    axes[i].set_yticks([])\n",
    "\n",
    "    if row_index == num_rows-1:\n",
    "        # Set labels and title\n",
    "        axes[i].set_xlabel('RMSD / Å')\n",
    "    else:\n",
    "        axes[i].set_xlabel('')\n",
    "\n",
    "    if col_index == 0:\n",
    "        axes[i].set_ylabel('density')\n",
    "    else:\n",
    "        axes[i].set_ylabel('')\n",
    "        \n",
    "    \n",
    "\n",
    "# Remove any empty subplots\n",
    "for i in range(num_keys, num_rows * num_cols):\n",
    "    fig.delaxes(axes[i])\n",
    "\n",
    "plt.tight_layout()\n",
    "#plt.show()\n",
    "\n",
    "plt.savefig('cyanines_RMSDplot.pdf')"
   ]
  },
  {
   "cell_type": "code",
   "execution_count": null,
   "id": "c0fe5ed8-c224-4c84-93c1-df07236d61d1",
   "metadata": {},
   "outputs": [],
   "source": []
  },
  {
   "cell_type": "code",
   "execution_count": null,
   "id": "5b19e2fc-40c9-418e-a19a-dcdf666d6382",
   "metadata": {},
   "outputs": [],
   "source": []
  }
 ],
 "metadata": {
  "kernelspec": {
   "display_name": "Python 3 (ipykernel)",
   "language": "python",
   "name": "python3"
  },
  "language_info": {
   "codemirror_mode": {
    "name": "ipython",
    "version": 3
   },
   "file_extension": ".py",
   "mimetype": "text/x-python",
   "name": "python",
   "nbconvert_exporter": "python",
   "pygments_lexer": "ipython3",
   "version": "3.12.0"
  }
 },
 "nbformat": 4,
 "nbformat_minor": 5
}
