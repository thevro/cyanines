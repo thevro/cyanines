{
 "cells": [
  {
   "cell_type": "code",
   "execution_count": 1,
   "id": "789f712b-c7d7-4171-afe2-3531cbc975da",
   "metadata": {},
   "outputs": [],
   "source": [
    "import os, glob\n",
    "import numpy as np\n",
    "import pandas as pd\n",
    "\n",
    "import matplotlib.pyplot as plt\n",
    "from ase.db import connect\n",
    "\n",
    "from itertools import combinations"
   ]
  },
  {
   "cell_type": "code",
   "execution_count": 2,
   "id": "ebeae0f2-e2bf-4c4a-93b6-4bd4e2817825",
   "metadata": {},
   "outputs": [
    {
     "data": {
      "text/plain": [
       "['cc-Cy2', 'hc-Cy1', 'hc-Cy2', 'sc-Cy1', 'sc-mCy1']"
      ]
     },
     "execution_count": 2,
     "metadata": {},
     "output_type": "execute_result"
    }
   ],
   "source": [
    "path = os.getcwd()\n",
    "databases = sorted([n for n in os.listdir(path) if 'Cy' in n and n.endswith('.db')])\n",
    "molnames = [n.split('_')[1][:-3] for n in databases]\n",
    "\n",
    "molnames"
   ]
  },
  {
   "cell_type": "code",
   "execution_count": 3,
   "id": "15639f12-0b01-4a19-8193-30dd775ff017",
   "metadata": {},
   "outputs": [],
   "source": [
    "def _get_refgeom_idx(dbpath, dbname):\n",
    "\n",
    "    E0 = []\n",
    "    for idx, mol in enumerate(connect(os.path.join(dbpath, dbname)).select()):\n",
    "        #print(mol.data.keys())\n",
    "        E0.append(mol.data['energy'][0][0])\n",
    "\n",
    "    min_E0_idx = E0.index(min(E0))\n",
    "    return min_E0_idx\n",
    "    "
   ]
  },
  {
   "cell_type": "code",
   "execution_count": 4,
   "id": "5026bab9-ee3f-4a96-b328-93f50c1823cc",
   "metadata": {},
   "outputs": [],
   "source": [
    "Hartree2eV = 27.2114"
   ]
  },
  {
   "cell_type": "code",
   "execution_count": 5,
   "id": "4dad48b0-939e-4cbd-ab67-d78e5d5f8df0",
   "metadata": {},
   "outputs": [],
   "source": [
    "def get_referenced_energies(dbpath, dbname):\n",
    "\n",
    "    S0 = []\n",
    "    S1 = []\n",
    "    S2 = []\n",
    "    for idx, mol in enumerate(connect(os.path.join(dbpath, dbname)).select()):\n",
    "        S0.append(mol.data['energy'][0][0])\n",
    "        S1.append(mol.data['energy'][0][1])\n",
    "        S2.append(mol.data['energy'][0][2])\n",
    "\n",
    "    Emin = np.min(S0)\n",
    "\n",
    "    S0_ref = [(i - Emin)*27.2114 for i in S0]\n",
    "    S1_ref = [(i - Emin)*27.2114 for i in S1]\n",
    "    S2_ref = [(i - Emin)*27.2114 for i in S2]\n",
    "\n",
    "    return S0_ref, S1_ref, S2_ref"
   ]
  },
  {
   "cell_type": "code",
   "execution_count": 6,
   "id": "7f341a8a-e0c9-4641-a902-babe95d668d8",
   "metadata": {},
   "outputs": [],
   "source": [
    "def get_forbenius_normed_forces(dbpath, dbname):\n",
    "\n",
    "    S0 = []\n",
    "    S1 = []\n",
    "    S2 = []\n",
    "    for idx, mol in enumerate(connect(os.path.join(dbpath, dbname)).select()):\n",
    "        S0.append(mol.data['forces'][:,:,0])\n",
    "        S1.append(mol.data['forces'][:,:,1])\n",
    "        S2.append(mol.data['forces'][:,:,2])\n",
    "\n",
    "    #print(S0[0].shape)\n",
    "    S0_norm = [np.linalg.norm(M, ord='fro') for M in S0]\n",
    "    S1_norm = [np.linalg.norm(M, ord='fro') for M in S1]\n",
    "    S2_norm =[ np.linalg.norm(M, ord='fro') for M in S2]\n",
    "\n",
    "    return S0_norm, S1_norm, S2_norm"
   ]
  },
  {
   "cell_type": "code",
   "execution_count": 7,
   "id": "0a0b8358-398b-40bc-b41a-7ffcfbb81dc1",
   "metadata": {},
   "outputs": [],
   "source": [
    "energy_data = []\n",
    "forces_data = []\n",
    "\n",
    "for idx, dbname in enumerate(databases):\n",
    "\n",
    "    E0, E1, E2 = get_referenced_energies(path, dbname)\n",
    "    tmp_energies = {\n",
    "        'molecule': molnames[idx],\n",
    "        'S$_0$': E0,\n",
    "        'S$_1$': E1,\n",
    "        'S$_2$': E2\n",
    "    }\n",
    "    energy_data.append(tmp_energies)\n",
    "\n",
    "    F0, F1, F2 = get_forbenius_normed_forces(path, dbname)\n",
    "    tmp_forces = {\n",
    "            'molecule': molnames[idx],\n",
    "            'S$_0$': F0,\n",
    "            'S$_1$': F1,\n",
    "            'S$_2$': F2\n",
    "        }\n",
    "    forces_data.append(tmp_forces)\n"
   ]
  },
  {
   "cell_type": "code",
   "execution_count": 20,
   "id": "3eab3d0e-c047-4bd5-8fb6-6f120de9e80f",
   "metadata": {},
   "outputs": [
    {
     "data": {
      "text/plain": [
       "1110"
      ]
     },
     "execution_count": 20,
     "metadata": {},
     "output_type": "execute_result"
    }
   ],
   "source": [
    "len(energy_data[0]['S$_0$'])"
   ]
  },
  {
   "cell_type": "raw",
   "id": "333ae5f3-64a7-4a6c-a273-624b14db5896",
   "metadata": {},
   "source": [
    "import pandas as pd\n",
    "import seaborn as sns\n",
    "import matplotlib.pyplot as plt\n",
    "\n",
    "for mol in energy_data:\n",
    "    df = pd.DataFrame(mol)\n",
    "    # Create a combined histogram plot\n",
    "    sns.histplot(data=df, bins=100, kde=True, multiple='layer')\n",
    "\n",
    "    # Set labels and title\n",
    "    plt.xlabel('rel. Energy / eV')\n",
    "    plt.ylabel('Density')\n",
    "\n",
    "# Show the plot\n",
    "plt.show()"
   ]
  },
  {
   "cell_type": "markdown",
   "id": "50e16a0b-9eaf-417a-898a-6016f60abd30",
   "metadata": {},
   "source": [
    "## Merge all energies for S0, S1 and S2 in one dict (rel. energies for each molecule)"
   ]
  },
  {
   "cell_type": "code",
   "execution_count": 58,
   "id": "41e2aa56-a5ff-4639-b55b-38e8f5b21d34",
   "metadata": {},
   "outputs": [],
   "source": [
    "#merge_energies = {key: [l_0.extend(entry[key]) for entry in energy_data if key != 'molecule'][0] for key in ['S$_0$', 'S$_1$', 'S$_2$']}\n",
    "merge_forces = {key: [entry[key] for entry in forces_data if key != 'molecule'][0] for key in ['S$_0$', 'S$_1$', 'S$_2$']}"
   ]
  },
  {
   "cell_type": "code",
   "execution_count": 63,
   "id": "3385f082-9218-44de-a998-06cc1a1a7eb7",
   "metadata": {},
   "outputs": [],
   "source": [
    "merge_keys = {'S$_0$': [], 'S$_1$': [], 'S$_2$': []}\n",
    "\n",
    "merge_energies = {key: [value for entry in energy_data if key in entry and key != 'molecule' for value in entry[key]] for key in merge_keys}\n",
    "merge_forces = {key: [value for entry in forces_data if key in entry and key != 'molecule' for value in entry[key]] for key in merge_keys}\n"
   ]
  },
  {
   "cell_type": "raw",
   "id": "af905a78-51ce-410b-90e2-e9054f051c25",
   "metadata": {},
   "source": [
    "merge_energies = {'S$_0$': [], 'S$_1$': [], 'S$_2$': []}\n",
    "\n",
    "for entry in energy_data:\n",
    "    for key, value in entry.items():\n",
    "        if key != 'molecule':\n",
    "            merge_energies[key].extend(value)\n",
    "\n"
   ]
  },
  {
   "cell_type": "code",
   "execution_count": 69,
   "id": "1e2bfc5b-8bdc-403b-8fd3-54db8ffab70e",
   "metadata": {},
   "outputs": [
    {
     "data": {
      "text/plain": [
       "(5545, 5545, 5545)"
      ]
     },
     "execution_count": 69,
     "metadata": {},
     "output_type": "execute_result"
    }
   ],
   "source": [
    "len(merge_forces['S$_0$']), len(merge_forces['S$_1$']), len(merge_forces['S$_2$'])"
   ]
  },
  {
   "cell_type": "code",
   "execution_count": 74,
   "id": "f60d4b4c-9fab-457b-a35e-e165c9955c38",
   "metadata": {},
   "outputs": [
    {
     "data": {
      "text/plain": [
       "(0.0037574673909276262, 1.273745901466808)"
      ]
     },
     "execution_count": 74,
     "metadata": {},
     "output_type": "execute_result"
    }
   ],
   "source": [
    "np.min(merge_forces['S$_0$']), np.max(merge_forces['S$_0$'])\n",
    "np.min(merge_forces['S$_2$']), np.max(merge_forces['S$_2$'])"
   ]
  },
  {
   "cell_type": "markdown",
   "id": "21bfa25b-f2f9-4334-81b1-d85530f1192f",
   "metadata": {},
   "source": [
    "## Merge Frobenius normed Forces of S0, S1 and S2 into one dict "
   ]
  },
  {
   "cell_type": "raw",
   "id": "9c33ea03-b5f4-4de5-b7fa-4202d1912f46",
   "metadata": {},
   "source": [
    "merge_forces = {'S$_0$': [], 'S$_1$': [], 'S$_2$': []}\n",
    "\n",
    "for entry in forces_data:\n",
    "    for key, value in entry.items():\n",
    "        if key != 'molecule':\n",
    "            merge_forces[key].append(value)\n"
   ]
  },
  {
   "cell_type": "markdown",
   "id": "4edff2ab-d31c-460c-979a-85e788d30b73",
   "metadata": {},
   "source": [
    "## Plot Energy and Force distribution"
   ]
  },
  {
   "cell_type": "code",
   "execution_count": 119,
   "id": "02ea67cb-de87-4529-acf2-662ebac8de92",
   "metadata": {},
   "outputs": [
    {
     "data": {
      "image/png": "[encoded data removed]",
      "text/plain": [
       "<Figure size 900x400 with 2 Axes>"
      ]
     },
     "metadata": {},
     "output_type": "display_data"
    }
   ],
   "source": [
    "import matplotlib\n",
    "import matplotlib.pyplot as plt\n",
    "import matplotlib.gridspec as gridspec\n",
    "import seaborn as sns\n",
    "\n",
    "# Set the global font size\n",
    "_fs = 14\n",
    "matplotlib.rcParams['font.size'] = _fs\n",
    "\n",
    "fig = plt.figure(figsize=(9.0, 4))\n",
    "gs = gridspec.GridSpec(1, 2, width_ratios=[1,1])\n",
    "\n",
    "ax1 = fig.add_subplot(gs[0])\n",
    "ax2 = fig.add_subplot(gs[1])\n",
    "\n",
    "cpurple0  = (143/255, 78/255, 113/255)\n",
    "cpurple1  = (194/255, 144/255, 171/255)\n",
    "cpurple2  = (220/255, 189/255, 209/255)\n",
    "\n",
    "df_energies = pd.DataFrame(merge_energies)\n",
    "df_forces   = pd.DataFrame(merge_forces)\n",
    "\n",
    "# Create a combined histogram plot\n",
    "sns.histplot(data=df_energies['S$_0$'], bins=150, kde=False, multiple='layer', label='S$_0$',\n",
    "             element=\"step\", stat='count',  #stat=\"density\",\n",
    "             facecolor=cpurple0, edgecolor=cpurple0, color=cpurple0, ax=ax1)\n",
    "\n",
    "sns.histplot(data=df_energies['S$_1$'], bins=150, kde=False, multiple='layer', label='S$_1$',\n",
    "             element=\"step\", stat='count',  #stat=\"density\",\n",
    "             facecolor=cpurple1, edgecolor=cpurple1, color='black', ax=ax1)\n",
    "\n",
    "sns.histplot(data=df_energies['S$_2$'], bins=150, kde=False, multiple='layer', label='S$_2$',\n",
    "             element=\"step\", stat='count', #stat=\"density\",\n",
    "             facecolor=cpurple2, edgecolor=cpurple2, color='black', ax=ax1)\n",
    "\n",
    "ax1.text(0.03,0.97, 'a', transform=ax1.transAxes, color='black', fontsize=_fs, verticalalignment='top', \n",
    "         bbox=dict(facecolor='white', edgecolor='none', alpha=0.0),  weight='bold')\n",
    "# Set labels and title for ax1\n",
    "ax1.set_xlim(-0.5, 14.5)\n",
    "ax1.set_xlabel('rel. Energy / eV')\n",
    "ax1.set_ylabel('Count')\n",
    "#ax1.legend(frameon=False)\n",
    "\n",
    "# Create a combined histogram plot\n",
    "sns.histplot(data=df_forces['S$_0$'], bins=250, kde=False, multiple='layer', label='S$_0$',\n",
    "             binrange=[-0.1,1.5], \n",
    "             facecolor=cpurple0, edgecolor=cpurple0, \n",
    "             #facecolor='white', edgecolor='white', \n",
    "             element=\"bars\", #stat='density',\n",
    "             stat=\"count\",\n",
    "             color=cpurple0, ax=ax2)\n",
    "\n",
    "sns.histplot(data=df_forces['S$_1$'], bins=250, kde=False, multiple='layer', label='S$_1$',\n",
    "             binrange=[-0.1,1.5], \n",
    "             facecolor=cpurple1, edgecolor=cpurple1, \n",
    "             #facecolor='white', edgecolor='white', \n",
    "             element=\"bars\", stat='count', \n",
    "             #stat=\"density\", #stat='percent',  \n",
    "             color=cpurple1, ax=ax2)\n",
    "\n",
    "sns.histplot(data=df_forces['S$_2$'], bins=250, kde=False, multiple='layer', label='S$_2$',\n",
    "             binrange=[-0.1,1.5], \n",
    "             facecolor=cpurple2, edgecolor=cpurple2, \n",
    "             #facecolor='white', edgecolor='white', \n",
    "             element=\"bars\", stat='count', \n",
    "             #stat=\"density\",\n",
    "             color=cpurple2, ax=ax2)\n",
    "\n",
    "\n",
    "ax2.text(0.03,0.97, 'b', transform=ax2.transAxes, color='black', fontsize=_fs, verticalalignment='top', \n",
    "         bbox=dict(facecolor='white', edgecolor='none', alpha=0.0),  weight='bold')\n",
    "# Set labels and title for ax2\n",
    "ax2.set_xlim(-0.1, 1.2)\n",
    "ax2.set_xlabel('Forces / Hartree Bohr$^{-1}$')\n",
    "ax2.set_ylabel('')\n",
    "ax2.legend(frameon=False)\n",
    "\n",
    "# Adjust layout\n",
    "plt.tight_layout()\n",
    "\n",
    "# Show the plot\n",
    "#plt.show()\n",
    "plt.savefig('Energy_Forces_space.pdf')"
   ]
  },
  {
   "cell_type": "code",
   "execution_count": null,
   "id": "e2250f6e-bcc7-4ba0-9503-53b5c4c12ea2",
   "metadata": {},
   "outputs": [],
   "source": []
  },
  {
   "cell_type": "code",
   "execution_count": null,
   "id": "d42e2b11-50ff-4c25-bd94-e1ac5aad1082",
   "metadata": {},
   "outputs": [],
   "source": []
  },
  {
   "cell_type": "code",
   "execution_count": null,
   "id": "3965ad23-596d-4c7e-b6a3-50ec58d2f368",
   "metadata": {},
   "outputs": [],
   "source": []
  }
 ],
 "metadata": {
  "kernelspec": {
   "display_name": "Python 3 (ipykernel)",
   "language": "python",
   "name": "python3"
  },
  "language_info": {
   "codemirror_mode": {
    "name": "ipython",
    "version": 3
   },
   "file_extension": ".py",
   "mimetype": "text/x-python",
   "name": "python",
   "nbconvert_exporter": "python",
   "pygments_lexer": "ipython3",
   "version": "3.12.0"
  }
 },
 "nbformat": 4,
 "nbformat_minor": 5
}
