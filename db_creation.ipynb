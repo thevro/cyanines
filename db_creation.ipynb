{
 "cells": [
  {
   "cell_type": "code",
   "execution_count": 1,
   "id": "b9a4074e-d5ee-4638-8e0f-c169b94c6615",
   "metadata": {},
   "outputs": [],
   "source": [
    "from spainn.asetools.generate_db import GenerateDB"
   ]
  },
  {
   "cell_type": "code",
   "execution_count": 2,
   "id": "a3d5c4ac-8f1e-4cdf-a8e4-c541f9df1253",
   "metadata": {},
   "outputs": [],
   "source": [
    "gdb = GenerateDB()"
   ]
  },
  {
   "cell_type": "code",
   "execution_count": 3,
   "id": "a1ab51f9-f1db-488a-ae1e-2bf0b4c744bc",
   "metadata": {},
   "outputs": [],
   "source": [
    "import os"
   ]
  },
  {
   "cell_type": "code",
   "execution_count": 4,
   "id": "286d8cc4-1cfc-4725-a27c-6a86edef5263",
   "metadata": {},
   "outputs": [],
   "source": [
    "os.chdir('/nc/Cyanine/data_sc-Cy1/')"
   ]
  },
  {
   "cell_type": "code",
   "execution_count": 5,
   "id": "2a9cfb31-8915-46ca-91e4-90e9f519364a",
   "metadata": {},
   "outputs": [
    {
     "name": "stderr",
     "output_type": "stream",
     "text": [
      "INFO:spainn.asetools.generate_db:Found following state list: ['3']\n",
      "INFO:spainn.asetools.generate_db:Found following properties: energy forces dipoles nacs\n",
      "INFO:spainn.asetools.generate_db:Wrote 1111 geometries to ../all_via_module_interface.db\n"
     ]
    }
   ],
   "source": [
    "gdb.generate('.', '../all_via_module_interface.db', smooth_nacs=True)"
   ]
  },
  {
   "cell_type": "code",
   "execution_count": 6,
   "id": "6ca29412-5681-4496-9e46-227f8f331dce",
   "metadata": {},
   "outputs": [
    {
     "name": "stderr",
     "output_type": "stream",
     "text": [
      "INFO:spainn.asetools.generate_db:Found following state list: ['3']\n",
      "INFO:spainn.asetools.generate_db:Found following properties: energy forces dipoles nacs\n",
      "INFO:spainn.asetools.generate_db:Wrote 101 geometries to ../g00_via_module_interface.db\n"
     ]
    }
   ],
   "source": [
    "gdb.generate('./sc-Cy1_g00/', '../g00_via_module_interface.db', smooth_nacs=True)"
   ]
  }
 ],
 "metadata": {
  "kernelspec": {
   "display_name": "Python 3 (ipykernel)",
   "language": "python",
   "name": "python3"
  },
  "language_info": {
   "codemirror_mode": {
    "name": "ipython",
    "version": 3
   },
   "file_extension": ".py",
   "mimetype": "text/x-python",
   "name": "python",
   "nbconvert_exporter": "python",
   "pygments_lexer": "ipython3",
   "version": "3.10.13"
  }
 },
 "nbformat": 4,
 "nbformat_minor": 5
}
